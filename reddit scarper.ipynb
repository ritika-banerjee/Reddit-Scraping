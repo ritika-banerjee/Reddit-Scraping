{
 "cells": [
  {
   "cell_type": "code",
   "execution_count": 8,
   "metadata": {},
   "outputs": [
    {
     "data": {
      "text/html": [
       "<div>\n",
       "<style scoped>\n",
       "    .dataframe tbody tr th:only-of-type {\n",
       "        vertical-align: middle;\n",
       "    }\n",
       "\n",
       "    .dataframe tbody tr th {\n",
       "        vertical-align: top;\n",
       "    }\n",
       "\n",
       "    .dataframe thead th {\n",
       "        text-align: right;\n",
       "    }\n",
       "</style>\n",
       "<table border=\"1\" class=\"dataframe\">\n",
       "  <thead>\n",
       "    <tr style=\"text-align: right;\">\n",
       "      <th></th>\n",
       "      <th>Comments</th>\n",
       "    </tr>\n",
       "  </thead>\n",
       "  <tbody>\n",
       "    <tr>\n",
       "      <th>0</th>\n",
       "      <td>Marks aren't vidible in pics...start calling t...</td>\n",
       "    </tr>\n",
       "    <tr>\n",
       "      <th>1</th>\n",
       "      <td>If you're asking for fashion advice, maybe go ...</td>\n",
       "    </tr>\n",
       "    <tr>\n",
       "      <th>2</th>\n",
       "      <td>You are gorgeous, but I still won’t call this ...</td>\n",
       "    </tr>\n",
       "    <tr>\n",
       "      <th>3</th>\n",
       "      <td>You are gorgeous, but I still won’t call this ...</td>\n",
       "    </tr>\n",
       "    <tr>\n",
       "      <th>4</th>\n",
       "      <td>Shrug if you want to look cute, denim jacket (...</td>\n",
       "    </tr>\n",
       "  </tbody>\n",
       "</table>\n",
       "</div>"
      ],
      "text/plain": [
       "                                            Comments\n",
       "0  Marks aren't vidible in pics...start calling t...\n",
       "1  If you're asking for fashion advice, maybe go ...\n",
       "2  You are gorgeous, but I still won’t call this ...\n",
       "3  You are gorgeous, but I still won’t call this ...\n",
       "4  Shrug if you want to look cute, denim jacket (..."
      ]
     },
     "execution_count": 8,
     "metadata": {},
     "output_type": "execute_result"
    }
   ],
   "source": [
    "import praw\n",
    "import pandas as pd\n",
    "from praw.models import MoreComments\n",
    "\n",
    "reddit = praw.Reddit(client_id=\"4NE4coGocgiygH-SXeDYnA\",client_secret=\"alOzqaczvU-8L7Kt4YY_RQ2Em9yFrA\",user_agent=\"Bruh-plot_twist\")\n",
    "\n",
    "url = input(\"enter the url of the post: \")\n",
    "submission = reddit.submission(url=url)\n",
    "\n",
    "count = 0\n",
    "top = {\"Comments\": []}\n",
    "for top_level_comment in submission.comments:\n",
    "    if isinstance(top_level_comment, MoreComments): # ignores more comments\n",
    "        continue\n",
    "    if count == 0:  # Skip the first comment\n",
    "        count += 1\n",
    "        continue\n",
    "    top[\"Comments\"].append(top_level_comment.body)\n",
    "    count +=1\n",
    "    if count == 6:\n",
    "        break\n",
    "    \n",
    "top_comments = pd.DataFrame(top)\n",
    "top_comments\n",
    "\n"
   ]
  },
  {
   "cell_type": "code",
   "execution_count": null,
   "metadata": {},
   "outputs": [],
   "source": []
  }
 ],
 "metadata": {
  "kernelspec": {
   "display_name": "Python 3",
   "language": "python",
   "name": "python3"
  },
  "language_info": {
   "codemirror_mode": {
    "name": "ipython",
    "version": 3
   },
   "file_extension": ".py",
   "mimetype": "text/x-python",
   "name": "python",
   "nbconvert_exporter": "python",
   "pygments_lexer": "ipython3",
   "version": "3.11.3"
  },
  "orig_nbformat": 4
 },
 "nbformat": 4,
 "nbformat_minor": 2
}
